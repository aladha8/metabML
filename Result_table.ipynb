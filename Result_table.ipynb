{
 "cells": [
  {
   "cell_type": "code",
   "execution_count": 1,
   "metadata": {
    "collapsed": true
   },
   "outputs": [],
   "source": [
    "import numpy as np\n",
    "import pandas as pd\n",
    "import seaborn as sns\n",
    "import matplotlib.pyplot as plt\n",
    "from seaborn import scatterplot"
   ]
  },
  {
   "cell_type": "code",
   "execution_count": 18,
   "metadata": {},
   "outputs": [],
   "source": [
    "cv_s = []\n",
    "log_test = []\n",
    "svc_test = []\n",
    "ran_test = []\n",
    "studies = [19,72,266]\n",
    "for study in studies:\n",
    "    cv_s.append(pd.read_csv('S_'+str(study)+'_Results.csv', index_col=0))\n",
    "    log_test.append(pd.read_csv('Results/LOGREG_S'+str(study)+'_1.csv'))\n",
    "    svc_test.append(pd.read_csv('Results/SVC_S'+str(study)+'_1.csv'))\n",
    "    ran_test.append(pd.read_csv('Results/RANDFOREST_S'+str(study)+'_1.csv'))"
   ]
  },
  {
   "cell_type": "code",
   "execution_count": 17,
   "metadata": {},
   "outputs": [],
   "source": [
    "cv = pd.concat(cv_s)\n",
    "cv.plot.box()\n",
    "plt.ylabel('Test Performance')\n",
    "plt.savefig('Test_Results.png', format = 'png')"
   ]
  },
  {
   "cell_type": "code",
   "execution_count": 36,
   "metadata": {},
   "outputs": [],
   "source": [
    "def get_best_score(df_s, study_type, output_df):\n",
    "    cv_scores = []\n",
    "    for df in df_s:\n",
    "        best_rows = df[df['mean_test_score']==df['mean_test_score'].max()]\n",
    "        cv_scores.append(best_rows['mean_test_score'].max())\n",
    "    output_df[study_type] = cv_scores\n",
    "    return output_df"
   ]
  },
  {
   "cell_type": "code",
   "execution_count": 39,
   "metadata": {},
   "outputs": [],
   "source": [
    "cv_results = pd.DataFrame()\n",
    "cv_results = get_best_score(log_test, 'Log Reg', cv_results)\n",
    "cv_results = get_best_score(svc_test, 'SVC', cv_results)\n",
    "cv_results = get_best_score(ran_test, 'Random Forest', cv_results)"
   ]
  },
  {
   "cell_type": "code",
   "execution_count": 41,
   "metadata": {},
   "outputs": [
    {
     "name": "stdout",
     "output_type": "stream",
     "text": [
      "Log Reg          0.818874\n",
      "SVC              0.811850\n",
      "Random Forest    0.820813\n",
      "dtype: float64\n"
     ]
    }
   ],
   "source": [
    "print(cv_results.mean())"
   ]
  },
  {
   "cell_type": "code",
   "execution_count": 46,
   "metadata": {
    "collapsed": true
   },
   "outputs": [],
   "source": [
    "cv_results_table = pd.DataFrame(index = ['Log Reg', 'SVC', 'Random Forest'])\n",
    "cv_results_table['Mean CV Score'] = cv_results.mean()\n",
    "cv_results_table['Feature Selection'] = ['None', 'None', 'Group, Best 50% of n_peaks, Best 50% of drt']\n",
    "cv_results_table['Dimensionality Reduction'] = ['PCA(n_components = n_samples-1)', 'None', 'None']\n",
    "cv_results_table['Classifier'] = ['LogisticRegression(penalty = l1, C=10000)', 'SVC(C=10000, kernel = linear)', 'RandomForrestClassifier(n_estimators = 100)']"
   ]
  },
  {
   "cell_type": "code",
   "execution_count": 47,
   "metadata": {},
   "outputs": [
    {
     "data": {
      "text/html": [
       "<div>\n",
       "<style scoped>\n",
       "    .dataframe tbody tr th:only-of-type {\n",
       "        vertical-align: middle;\n",
       "    }\n",
       "\n",
       "    .dataframe tbody tr th {\n",
       "        vertical-align: top;\n",
       "    }\n",
       "\n",
       "    .dataframe thead th {\n",
       "        text-align: right;\n",
       "    }\n",
       "</style>\n",
       "<table border=\"1\" class=\"dataframe\">\n",
       "  <thead>\n",
       "    <tr style=\"text-align: right;\">\n",
       "      <th></th>\n",
       "      <th>Mean CV Score</th>\n",
       "      <th>Feature Selection</th>\n",
       "      <th>Dimensionality Reduction</th>\n",
       "      <th>Classifier</th>\n",
       "    </tr>\n",
       "  </thead>\n",
       "  <tbody>\n",
       "    <tr>\n",
       "      <th>Log Reg</th>\n",
       "      <td>0.818874</td>\n",
       "      <td>None</td>\n",
       "      <td>PCA(n_components = n_samples-1)</td>\n",
       "      <td>LogisticRegression(penalty = l1, C=10000)</td>\n",
       "    </tr>\n",
       "    <tr>\n",
       "      <th>SVC</th>\n",
       "      <td>0.811850</td>\n",
       "      <td>None</td>\n",
       "      <td>None</td>\n",
       "      <td>SVC(C=10000, kernel = linear)</td>\n",
       "    </tr>\n",
       "    <tr>\n",
       "      <th>Random Forest</th>\n",
       "      <td>0.820813</td>\n",
       "      <td>Group, Best 50% of n_peaks, Best 50% of drt</td>\n",
       "      <td>None</td>\n",
       "      <td>RandomForrestClassifier(n_estimators = 100)</td>\n",
       "    </tr>\n",
       "  </tbody>\n",
       "</table>\n",
       "</div>"
      ],
      "text/plain": [
       "               Mean CV Score                            Feature Selection  \\\n",
       "Log Reg             0.818874                                         None   \n",
       "SVC                 0.811850                                         None   \n",
       "Random Forest       0.820813  Group, Best 50% of n_peaks, Best 50% of drt   \n",
       "\n",
       "                      Dimensionality Reduction  \\\n",
       "Log Reg        PCA(n_components = n_samples-1)   \n",
       "SVC                                       None   \n",
       "Random Forest                             None   \n",
       "\n",
       "                                                Classifier  \n",
       "Log Reg          LogisticRegression(penalty = l1, C=10000)  \n",
       "SVC                          SVC(C=10000, kernel = linear)  \n",
       "Random Forest  RandomForrestClassifier(n_estimators = 100)  "
      ]
     },
     "execution_count": 47,
     "metadata": {},
     "output_type": "execute_result"
    }
   ],
   "source": [
    "cv_results_table"
   ]
  },
  {
   "cell_type": "code",
   "execution_count": null,
   "metadata": {
    "collapsed": true
   },
   "outputs": [],
   "source": []
  }
 ],
 "metadata": {
  "kernelspec": {
   "display_name": "Python 3",
   "language": "python",
   "name": "python3"
  },
  "language_info": {
   "codemirror_mode": {
    "name": "ipython",
    "version": 3
   },
   "file_extension": ".py",
   "mimetype": "text/x-python",
   "name": "python",
   "nbconvert_exporter": "python",
   "pygments_lexer": "ipython3",
   "version": "3.6.2"
  }
 },
 "nbformat": 4,
 "nbformat_minor": 2
}
