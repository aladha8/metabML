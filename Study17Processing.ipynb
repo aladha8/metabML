{
 "cells": [
  {
   "cell_type": "code",
   "execution_count": 163,
   "metadata": {
    "collapsed": true
   },
   "outputs": [],
   "source": [
    "import numpy as np\n",
    "import pandas as pd"
   ]
  },
  {
   "cell_type": "code",
   "execution_count": 164,
   "metadata": {
    "collapsed": true
   },
   "outputs": [],
   "source": [
    "# Get a files for study\n",
    "#a_19 = pd.read_table(\"study_data/MTBLS72_data/a_MTBLS19_metabolite profiling_mass spectrometry.txt\")\n",
    "#a_19_pos = pd.read_table(\"study_data/MTBLS72_data/a_pos_MTBLS19_metabolite profiling_mass spectrometry.txt\")\n",
    "#a_19_neg = pd.read_table(\"study_data/MTBLS72_data/a_neg_MTBLS19_metabolite profiling_mass spectrometry.txt\")"
   ]
  },
  {
   "cell_type": "code",
   "execution_count": 241,
   "metadata": {},
   "outputs": [],
   "source": [
    "# Get s files for study - these both look the same\n",
    "s_72_1 = pd.read_table(\"study_data/MTBLS72_data/s_Plasma AD Lipidomics.txt\")\n",
    "s_72_2 = pd.read_table(\"study_data/MTBLS72_data/s_Plasma_AD_Lipidomics.txt\")"
   ]
  },
  {
   "cell_type": "code",
   "execution_count": 242,
   "metadata": {},
   "outputs": [],
   "source": [
    "#Get features for study\n",
    "f_72_neg = pd.read_csv(\"study_data/reprocessed_data/IPO_aligned_MTBLS72_neg.csv\", index_col=0)\n",
    "f_72_pos = pd.read_csv(\"study_data/reprocessed_data/IPO_aligned_MTBLS72_pos.csv\", index_col=0)"
   ]
  },
  {
   "cell_type": "code",
   "execution_count": 243,
   "metadata": {},
   "outputs": [],
   "source": [
    "name_to_disease = s_72_1[['Sample Name', 'Factor Value[Cognitive Status]']]\n",
    "name_to_disease = name_to_disease.set_index('Sample Name')\n",
    "f_72_neg['drt'] = f_72_neg['rtmax'] - f_72_neg['rtmin']\n",
    "f_72_pos['drt'] = f_72_pos['rtmax'] - f_72_pos['rtmin']\n",
    "f_72_neg = f_72_neg.T\n",
    "f_72_pos = f_72_pos.T"
   ]
  },
  {
   "cell_type": "code",
   "execution_count": 244,
   "metadata": {},
   "outputs": [],
   "source": [
    "f_72_neg = f_72_neg.reset_index()\n",
    "f_72_pos = f_72_pos.reset_index()"
   ]
  },
  {
   "cell_type": "code",
   "execution_count": 245,
   "metadata": {},
   "outputs": [],
   "source": [
    "sample_list = name_to_disease.index.tolist()\n",
    "f_list = [f_72_neg, f_72_pos]\n",
    "for i,f_72 in enumerate(f_list):\n",
    "    for index, row in f_72.iterrows():\n",
    "        s = row['index']\n",
    "        if '.mzML' in s:\n",
    "            s = s[1:]\n",
    "            s = s.split('.mzML')[0]\n",
    "            f_72.loc[index,'Disease']= name_to_disease.loc[s,'Factor Value[Cognitive Status]']\n",
    "            s = s.split('_')\n",
    "            s = s[0]+'_'+s[-1]\n",
    "            f_72.loc[index,'new_index'] = s\n",
    "        elif 'drt' in s or 'npeaks' in s or 'pcgroup' in s:\n",
    "            f_72.loc[index, 'new_index'] = s\n",
    "            f_72.loc[index, 'Disease'] = 'NA'\n",
    "    f_72.dropna(inplace=True, subset=['Disease'])\n",
    "    f_72.set_index('new_index', inplace=True)\n",
    "    f_72.drop('index', axis = 1, inplace=True)\n",
    "        \n",
    "        "
   ]
  },
  {
   "cell_type": "code",
   "execution_count": 246,
   "metadata": {},
   "outputs": [],
   "source": [
    "f_72 = pd.concat([f_72_neg, f_72_pos], axis = 1)\n",
    "disease = f_72['Disease'].iloc[:,0]\n",
    "f_72.drop(inplace=True, labels=['Disease'], axis=1)\n",
    "f_72 = f_72.T.reset_index(drop=True).T\n",
    "f_72 = pd.concat([f_72, disease], axis = 1)"
   ]
  },
  {
   "cell_type": "code",
   "execution_count": 247,
   "metadata": {
    "collapsed": true
   },
   "outputs": [],
   "source": [
    "f_72.to_csv('study_72_processed.csv')"
   ]
  },
  {
   "cell_type": "code",
   "execution_count": null,
   "metadata": {
    "collapsed": true
   },
   "outputs": [],
   "source": []
  }
 ],
 "metadata": {
  "kernelspec": {
   "display_name": "Python 3",
   "language": "python",
   "name": "python3"
  },
  "language_info": {
   "codemirror_mode": {
    "name": "ipython",
    "version": 3
   },
   "file_extension": ".py",
   "mimetype": "text/x-python",
   "name": "python",
   "nbconvert_exporter": "python",
   "pygments_lexer": "ipython3",
   "version": "3.6.2"
  }
 },
 "nbformat": 4,
 "nbformat_minor": 2
}
