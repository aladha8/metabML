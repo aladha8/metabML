{
 "cells": [
  {
   "cell_type": "code",
   "execution_count": 1,
   "metadata": {
    "collapsed": true
   },
   "outputs": [],
   "source": [
    "import numpy as np\n",
    "import pandas as pd"
   ]
  },
  {
   "cell_type": "code",
   "execution_count": 4,
   "metadata": {},
   "outputs": [],
   "source": [
    "#Import Feature Files\n",
    "STUDY = 72\n",
    "f_neg = pd.read_csv('study_data/reprocessed_data/IPO_aligned_MTBLS72_neg.csv', index_col=0)\n",
    "f_pos = pd.read_csv('study_data/reprocessed_data/IPO_aligned_MTBLS72_pos.csv', index_col=0)"
   ]
  },
  {
   "cell_type": "code",
   "execution_count": 6,
   "metadata": {},
   "outputs": [],
   "source": [
    "#import sample file\n",
    "samples = pd.read_table('study_data/MTBLS72_data/s_Plasma_AD_Lipidomics.txt')"
   ]
  },
  {
   "cell_type": "code",
   "execution_count": 7,
   "metadata": {
    "collapsed": true
   },
   "outputs": [],
   "source": [
    "#map sample to disease\n",
    "SAMPLE_COLUMN = 'Sample Name'\n",
    "DISEASE_COLUMN = 'Factor Value[Cognitive Status]'\n",
    "name_to_disease = samples[[SAMPLE_COLUMN, DISEASE_COLUMN]]\n",
    "name_to_disease = name_to_disease.set_index(SAMPLE_COLUMN)"
   ]
  },
  {
   "cell_type": "code",
   "execution_count": 8,
   "metadata": {
    "collapsed": true
   },
   "outputs": [],
   "source": [
    "f_neg['drt'] = f_neg['rtmax'] - f_neg['rtmin']\n",
    "f_pos['drt'] = f_pos['rtmax'] - f_pos['rtmin']\n",
    "f_neg = f_neg.T\n",
    "f_pos = f_pos.T\n",
    "f_neg = f_neg.reset_index()\n",
    "f_pos = f_pos.reset_index()"
   ]
  },
  {
   "cell_type": "code",
   "execution_count": 14,
   "metadata": {},
   "outputs": [],
   "source": [
    "#Add Disease column, and drop unnecessary columns\n",
    "sample_list = name_to_disease.index.tolist()\n",
    "f_list = [f_neg, f_pos]\n",
    "for i,features in enumerate(f_list):\n",
    "    for index, row in features.iterrows():\n",
    "        s = row['index']\n",
    "        if '_' in s:\n",
    "            #Split sample name on file by file basis\n",
    "            s = s[1:].split('.mzML')[0]\n",
    "            features.loc[index,'Disease']= name_to_disease.loc[s,DISEASE_COLUMN]\n",
    "            features.loc[index,'new_index'] = s\n",
    "        elif 'drt' in s or 'npeaks' in s or 'pcgroup' in s:\n",
    "            features.loc[index, 'new_index'] = s\n",
    "            features.loc[index, 'Disease'] = 'NA'\n",
    "    features.dropna(inplace=True, subset=['Disease'])\n",
    "    features.set_index('new_index', inplace=True)\n",
    "    features.drop('index', axis = 1, inplace=True)"
   ]
  },
  {
   "cell_type": "code",
   "execution_count": 21,
   "metadata": {
    "collapsed": true
   },
   "outputs": [],
   "source": [
    "features = pd.concat([f_neg, f_pos], axis = 1)\n",
    "disease = features['Disease'].iloc[:,0]\n",
    "features.drop(inplace=True, labels=['Disease'], axis=1)\n",
    "features = features.T.reset_index(drop=True).T\n",
    "features = pd.concat([features, disease], axis = 1)"
   ]
  },
  {
   "cell_type": "code",
   "execution_count": 23,
   "metadata": {
    "collapsed": true
   },
   "outputs": [],
   "source": [
    "csv_string = 'study_'+str(STUDY)+'_processed.csv'\n",
    "features.to_csv(csv_string)"
   ]
  },
  {
   "cell_type": "code",
   "execution_count": 16,
   "metadata": {},
   "outputs": [],
   "source": [
    "f_neg.to_csv('f_72_neg.csv')\n",
    "f_pos.to_csv('f_72_pos.csv')"
   ]
  },
  {
   "cell_type": "code",
   "execution_count": null,
   "metadata": {
    "collapsed": true
   },
   "outputs": [],
   "source": []
  }
 ],
 "metadata": {
  "kernelspec": {
   "display_name": "Python 3",
   "language": "python",
   "name": "python3"
  },
  "language_info": {
   "codemirror_mode": {
    "name": "ipython",
    "version": 3
   },
   "file_extension": ".py",
   "mimetype": "text/x-python",
   "name": "python",
   "nbconvert_exporter": "python",
   "pygments_lexer": "ipython3",
   "version": "3.6.2"
  }
 },
 "nbformat": 4,
 "nbformat_minor": 2
}
